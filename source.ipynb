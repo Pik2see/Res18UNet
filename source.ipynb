{
 "cells": [
  {
   "cell_type": "markdown",
   "metadata": {},
   "source": [
    "# 检查版本"
   ]
  },
  {
   "cell_type": "code",
   "execution_count": 1,
   "metadata": {},
   "outputs": [
    {
     "name": "stdout",
     "output_type": "stream",
     "text": [
      "CUDA版本: 12.1\n",
      "cuDNN版本: 8801\n",
      "Pytorch版本: 2.2.1+cu121\n",
      "显卡是否可用: 可用\n",
      "显卡数量: 1\n",
      "是否支持BF16数字格式: 支持\n",
      "当前显卡型号: NVIDIA GeForce RTX 3070 Laptop GPU\n",
      "当前显卡的CUDA算力: (8, 6)\n",
      "当前显卡的总显存: 7.99951171875 GB\n",
      "是否支持TensorCore: 支持\n",
      "当前显卡的显存使用率: 0.0 %\n"
     ]
    }
   ],
   "source": [
    "from evaluate import Evaluate\n",
    "evlt = Evaluate()\n",
    "evlt.environment_info()"
   ]
  },
  {
   "cell_type": "markdown",
   "metadata": {},
   "source": [
    "# 模型训练"
   ]
  },
  {
   "cell_type": "code",
   "execution_count": 1,
   "metadata": {},
   "outputs": [],
   "source": [
    "import torch\n",
    "import torch.nn.functional as F\n",
    "import torch.nn as nn\n",
    "import numpy as np\n",
    "import os, hashlib, csv, glob\n",
    "from evaluate import Evaluate\n",
    "from torch.utils.data import Dataset, DataLoader\n",
    "from torch import optim\n",
    "from config import Config\n",
    "from unet3d import Unet3D, BalancedCrossEntropyLoss, BatchBalancedCrossEntropyLoss\n",
    "from resunet3d import Res18Unet3D\n",
    "from dataset import FaultData, SingleSample\n",
    "from checkdata import CheckData\n",
    "evlat = Evaluate()\n",
    "cfg = Config()\n",
    "checker = CheckData()"
   ]
  },
  {
   "cell_type": "markdown",
   "metadata": {},
   "source": [
    "- 检查数据是否损坏"
   ]
  },
  {
   "cell_type": "code",
   "execution_count": 2,
   "metadata": {},
   "outputs": [],
   "source": [
    "# spath = 'data/train/seis/'\n",
    "# fpath = 'data/train/fault/'\n",
    "# vspath = 'data/validation/seis/'\n",
    "# vfpath = 'data/validation/fault/'\n",
    "\n",
    "# # checker.generate_md5_catalog(vspath, 'dat')\n",
    "# # checker.generate_md5_catalog(vfpath, 'dat')\n",
    "# checker.check_files_md5(vfpath)"
   ]
  },
  {
   "cell_type": "markdown",
   "metadata": {},
   "source": [
    "- 实例化模型、损失函数和优化器"
   ]
  },
  {
   "cell_type": "code",
   "execution_count": 5,
   "metadata": {},
   "outputs": [],
   "source": [
    "# unet3d = Unet3D(cfg).to(cfg.device)\n",
    "unet3d = Res18Unet3D(cfg).to(cfg.device)\n",
    "unet3d.load_state_dict(torch.load('0best.mdl'))\n",
    "optimizer = optim.Adam(unet3d.parameters(), lr=cfg.lr)\n",
    "# criteon = nn.BCELoss()\n",
    "# criteon = nn.CrossEntropyLoss().to(cfg.device)\n",
    "# criteon = BalancedCrossEntropyLoss().to(cfg.device)\n",
    "criteon = BatchBalancedCrossEntropyLoss().to(cfg.device)"
   ]
  },
  {
   "cell_type": "code",
   "execution_count": 6,
   "metadata": {},
   "outputs": [
    {
     "name": "stdout",
     "output_type": "stream",
     "text": [
      "------------------------------------------------------------------------------------------\n",
      "|           weight name          |               weight shape               |   number   |\n",
      "------------------------------------------------------------------------------------------\n",
      "| down1.0.weight                 | torch.Size([16, 1, 3, 3, 3])             | 432        |\n",
      "| down1.0.bias                   | torch.Size([16])                         | 16         |\n",
      "| down1.2.weight                 | torch.Size([16, 16, 3, 3, 3])            | 6912       |\n",
      "| down1.2.bias                   | torch.Size([16])                         | 16         |\n",
      "| down2.1.weight                 | torch.Size([32, 16, 3, 3, 3])            | 13824      |\n",
      "| down2.1.bias                   | torch.Size([32])                         | 32         |\n",
      "| down2.3.weight                 | torch.Size([32, 32, 3, 3, 3])            | 27648      |\n",
      "| down2.3.bias                   | torch.Size([32])                         | 32         |\n",
      "| down3.1.weight                 | torch.Size([64, 32, 3, 3, 3])            | 55296      |\n",
      "| down3.1.bias                   | torch.Size([64])                         | 64         |\n",
      "| down3.3.weight                 | torch.Size([64, 64, 3, 3, 3])            | 110592     |\n",
      "| down3.3.bias                   | torch.Size([64])                         | 64         |\n",
      "| botton.1.weight                | torch.Size([128, 64, 3, 3, 3])           | 221184     |\n",
      "| botton.1.bias                  | torch.Size([128])                        | 128        |\n",
      "| botton.3.weight                | torch.Size([128, 128, 3, 3, 3])          | 442368     |\n",
      "| botton.3.bias                  | torch.Size([128])                        | 128        |\n",
      "| up1.0.weight                   | torch.Size([64, 192, 3, 3, 3])           | 331776     |\n",
      "| up1.0.bias                     | torch.Size([64])                         | 64         |\n",
      "| up1.2.weight                   | torch.Size([64, 64, 3, 3, 3])            | 110592     |\n",
      "| up1.2.bias                     | torch.Size([64])                         | 64         |\n",
      "| up2.0.weight                   | torch.Size([32, 96, 3, 3, 3])            | 82944      |\n",
      "| up2.0.bias                     | torch.Size([32])                         | 32         |\n",
      "| up2.2.weight                   | torch.Size([32, 32, 3, 3, 3])            | 27648      |\n",
      "| up2.2.bias                     | torch.Size([32])                         | 32         |\n",
      "| up3.0.weight                   | torch.Size([16, 48, 3, 3, 3])            | 20736      |\n",
      "| up3.0.bias                     | torch.Size([16])                         | 16         |\n",
      "| up3.2.weight                   | torch.Size([16, 16, 3, 3, 3])            | 6912       |\n",
      "| up3.2.bias                     | torch.Size([16])                         | 16         |\n",
      "| up3.4.weight                   | torch.Size([1, 16, 3, 3, 3])             | 432        |\n",
      "| up3.4.bias                     | torch.Size([1])                          | 1          |\n",
      "------------------------------------------------------------------------------------------\n",
      "The total number of parameters: 1460001\n",
      "The parameters of Model Unet3D: 1.460001M\n",
      "------------------------------------------------------------------------------------------\n"
     ]
    }
   ],
   "source": [
    "evlat.model_structure(unet3d)"
   ]
  },
  {
   "cell_type": "markdown",
   "metadata": {},
   "source": [
    "- 载入数据集\n",
    "  - 训练集\n",
    "  - 验证集"
   ]
  },
  {
   "cell_type": "code",
   "execution_count": 7,
   "metadata": {},
   "outputs": [
    {
     "name": "stdout",
     "output_type": "stream",
     "text": [
      "initialization successful!\n",
      "train data len is 800\n",
      "initialization successful!\n",
      "valid data len is 20\n"
     ]
    }
   ],
   "source": [
    "train_data = FaultData('train', cfg)\n",
    "valid_data = FaultData('valid', cfg)\n",
    "# pred_data = FaultData('pred', cfg)"
   ]
  },
  {
   "cell_type": "code",
   "execution_count": 8,
   "metadata": {},
   "outputs": [
    {
     "name": "stdout",
     "output_type": "stream",
     "text": [
      "train data batch num: 100 , batch size is 8\n",
      "validation data batch num: 3 , batch size is 8\n",
      "800 20\n"
     ]
    }
   ],
   "source": [
    "train_loader = DataLoader(train_data, batch_size=cfg.batch_size, shuffle=True)\n",
    "valid_loader = DataLoader(valid_data, batch_size=cfg.batch_size, shuffle=True)\n",
    "# pred_loader = DataLoader(pred_data, batch_size=cfg.batch_size, shuffle=False)\n",
    "print('train data batch num:', len(train_loader), ', batch size is', cfg.batch_size)\n",
    "print('validation data batch num:', len(valid_loader), ', batch size is', cfg.batch_size)\n",
    "print(len(train_loader.dataset), len(valid_loader.dataset))"
   ]
  },
  {
   "cell_type": "markdown",
   "metadata": {},
   "source": [
    "- 单样本测试初始模型性能"
   ]
  },
  {
   "cell_type": "code",
   "execution_count": 10,
   "metadata": {},
   "outputs": [],
   "source": [
    "# unet3d.eval()\n",
    "# with torch.no_grad():\n",
    "#     for x, y in valid_loader:\n",
    "#         print(x.shape)\n",
    "#         # x, y = x.to(cfg.device), y.to(cfg.device)\n",
    "#         # y_hat = unet3d(x)\n",
    "#         # # print(evlat.roc_auc(y_hat, y))\n",
    "#         # # print(evlat.pr_auc(y_hat, y))\n",
    "#         # print(criteon(y_hat, y).item())\n",
    "#         break"
   ]
  },
  {
   "cell_type": "markdown",
   "metadata": {},
   "source": [
    "- 训练过程可视化\n",
    "  \n",
    "  需要在命令行输入 `python -m visdom.server` 启动visdom服务器"
   ]
  },
  {
   "cell_type": "code",
   "execution_count": 11,
   "metadata": {},
   "outputs": [
    {
     "name": "stderr",
     "output_type": "stream",
     "text": [
      "Setting up a new session...\n"
     ]
    },
    {
     "data": {
      "text/plain": [
       "'validation_epoch_roc_auc'"
      ]
     },
     "execution_count": 11,
     "metadata": {},
     "output_type": "execute_result"
    }
   ],
   "source": [
    "import visdom\n",
    "\n",
    "viz = visdom.Visdom(port=8089)\n",
    "\n",
    "viz.line([0.], [0.], win='train_batch_loss', opts=dict(title='train batch loss', legend=['batch loss']))\n",
    "viz.line([0.], [0.], win='train_batch_prec', opts=dict(title='train batch prec', legend=['train prec']))\n",
    "viz.line([0.], [0.], win='train_batch_recal', opts=dict(title='train batch recal', legend=['train recal']))\n",
    "viz.line([0.], [0.], win='train_batch_pr_auc', opts=dict(title='train batch pr auc', legend=['train pr auc']))\n",
    "viz.line([0.], [0.], win='train_batch_roc_auc', opts=dict(title='train batch roc auc', legend=['train roc auc']))\n",
    "viz.line([0.], [0.], win='train_epoch_loss', opts=dict(title='train epoch loss', legend=['epoch loss']))\n",
    "viz.line([0.], [0.], win='validation_epoch_preci', opts=dict(title='validation epoch prec', legend=['validation prec']))\n",
    "viz.line([0.], [0.], win='validation_epoch_recal', opts=dict(title='validation epoch recal', legend=['validation recal']))\n",
    "viz.line([0.], [0.], win='validation_epoch_loss', opts=dict(title='validation epoch loss', legend=['validation loss']))\n",
    "viz.line([0.], [0.], win='validation_epoch_pr_auc', opts=dict(title='validation epoch pr auc', legend=['validation pr auc']))\n",
    "viz.line([0.], [0.], win='validation_epoch_roc_auc', opts=dict(title='validation epoch roc auc', legend=['validation roc auc']))"
   ]
  },
  {
   "cell_type": "markdown",
   "metadata": {},
   "source": [
    "- 训练模型"
   ]
  },
  {
   "cell_type": "code",
   "execution_count": 12,
   "metadata": {},
   "outputs": [],
   "source": [
    "global_step = 0\n",
    "best_pre, best_rec, best_epoch, best_loss, best_pr_auc, best_roc_auc = 0, 0, 0, 10, 0, 0\n",
    "tb_pre, tb_rec, tb_pr_auc, tb_roc_auc = 0, 0, 0, 0"
   ]
  },
  {
   "cell_type": "code",
   "execution_count": 13,
   "metadata": {},
   "outputs": [
    {
     "name": "stdout",
     "output_type": "stream",
     "text": [
      "epoch: 1 batch: 1\n",
      "epoch: 1 batch: 2\n",
      "epoch: 1 batch: 3\n",
      "epoch: 1 batch: 4\n",
      "epoch: 1 batch: 5\n",
      "epoch: 1 batch: 6\n",
      "epoch: 1 batch: 7\n",
      "epoch: 1 batch: 8\n",
      "epoch: 1 batch: 9\n",
      "epoch: 1 batch: 10\n",
      "epoch: 1 batch: 11\n",
      "epoch: 1 batch: 12\n",
      "epoch: 1 batch: 13\n",
      "epoch: 1 batch: 14\n",
      "epoch: 1 batch: 15\n",
      "epoch: 1 batch: 16\n",
      "epoch: 1 batch: 17\n",
      "epoch: 1 batch: 18\n",
      "epoch: 1 batch: 19\n",
      "epoch: 1 batch: 20\n",
      "epoch: 1 batch: 21\n",
      "epoch: 1 batch: 22\n",
      "epoch: 1 batch: 23\n",
      "epoch: 1 batch: 24\n",
      "epoch: 1 batch: 25\n",
      "epoch: 1 batch: 26\n",
      "epoch: 1 batch: 27\n",
      "epoch: 1 batch: 28\n",
      "epoch: 1 batch: 29\n",
      "epoch: 1 batch: 30\n",
      "epoch: 1 batch: 31\n",
      "epoch: 1 batch: 32\n",
      "epoch: 1 batch: 33\n",
      "epoch: 1 batch: 34\n",
      "epoch: 1 batch: 35\n",
      "epoch: 1 batch: 36\n",
      "epoch: 1 batch: 37\n",
      "epoch: 1 batch: 38\n",
      "epoch: 1 batch: 39\n",
      "epoch: 1 batch: 40\n",
      "epoch: 1 batch: 41\n",
      "epoch: 1 batch: 42\n",
      "epoch: 1 batch: 43\n",
      "epoch: 1 batch: 44\n",
      "epoch: 1 batch: 45\n",
      "epoch: 1 batch: 46\n",
      "epoch: 1 batch: 47\n",
      "epoch: 1 batch: 48\n",
      "epoch: 1 batch: 49\n",
      "epoch: 1 batch: 50\n",
      "epoch: 1 batch: 51\n",
      "epoch: 1 batch: 52\n",
      "epoch: 1 batch: 53\n",
      "epoch: 1 batch: 54\n",
      "epoch: 1 batch: 55\n",
      "epoch: 1 batch: 56\n",
      "epoch: 1 batch: 57\n",
      "epoch: 1 batch: 58\n",
      "epoch: 1 batch: 59\n",
      "epoch: 1 batch: 60\n",
      "epoch: 1 batch: 61\n",
      "epoch: 1 batch: 62\n",
      "epoch: 1 batch: 63\n",
      "epoch: 1 batch: 64\n",
      "epoch: 1 batch: 65\n",
      "epoch: 1 batch: 66\n",
      "epoch: 1 batch: 67\n",
      "epoch: 1 batch: 68\n",
      "epoch: 1 batch: 69\n",
      "epoch: 1 batch: 70\n",
      "epoch: 1 batch: 71\n",
      "epoch: 1 batch: 72\n",
      "epoch: 1 batch: 73\n",
      "epoch: 1 batch: 74\n",
      "epoch: 1 batch: 75\n",
      "epoch: 1 batch: 76\n",
      "epoch: 1 batch: 77\n",
      "epoch: 1 batch: 78\n",
      "epoch: 1 batch: 79\n",
      "epoch: 1 batch: 80\n",
      "epoch: 1 batch: 81\n",
      "epoch: 1 batch: 82\n",
      "epoch: 1 batch: 83\n",
      "epoch: 1 batch: 84\n",
      "epoch: 1 batch: 85\n",
      "epoch: 1 batch: 86\n",
      "epoch: 1 batch: 87\n",
      "epoch: 1 batch: 88\n",
      "epoch: 1 batch: 89\n",
      "epoch: 1 batch: 90\n",
      "epoch: 1 batch: 91\n",
      "epoch: 1 batch: 92\n",
      "epoch: 1 batch: 93\n",
      "epoch: 1 batch: 94\n",
      "epoch: 1 batch: 95\n",
      "epoch: 1 batch: 96\n",
      "epoch: 1 batch: 97\n",
      "epoch: 1 batch: 98\n",
      "epoch: 1 batch: 99\n",
      "epoch: 1 batch: 100\n",
      "epoch: 1 batch: 101\n",
      "epoch: 1 batch: 102\n",
      "epoch: 1 batch: 103\n",
      "epoch: 1 batch: 104\n",
      "epoch: 1 batch: 105\n",
      "epoch: 1 batch: 106\n",
      "epoch: 1 batch: 107\n",
      "epoch: 1 batch: 108\n",
      "epoch: 1 batch: 109\n",
      "epoch: 1 batch: 110\n",
      "epoch: 1 batch: 111\n",
      "epoch: 1 batch: 112\n",
      "epoch: 1 batch: 113\n",
      "epoch: 1 batch: 114\n",
      "epoch: 1 batch: 115\n",
      "epoch: 1 batch: 116\n",
      "epoch: 1 batch: 117\n",
      "epoch: 1 batch: 118\n",
      "epoch: 1 batch: 119\n",
      "epoch: 1 batch: 120\n",
      "epoch: 1 batch: 121\n",
      "epoch: 1 batch: 122\n",
      "epoch: 1 batch: 123\n",
      "epoch: 1 batch: 124\n",
      "epoch: 1 batch: 125\n",
      "epoch: 1 batch: 126\n",
      "epoch: 1 batch: 127\n",
      "epoch: 1 batch: 128\n",
      "epoch: 1 batch: 129\n",
      "epoch: 1 batch: 130\n",
      "epoch: 1 batch: 131\n",
      "epoch: 1 batch: 132\n",
      "epoch: 1 batch: 133\n",
      "epoch: 1 batch: 134\n",
      "epoch: 1 batch: 135\n",
      "epoch: 1 batch: 136\n",
      "epoch: 1 batch: 137\n",
      "epoch: 1 batch: 138\n",
      "epoch: 1 batch: 139\n",
      "epoch: 1 batch: 140\n",
      "epoch: 1 batch: 141\n",
      "epoch: 1 batch: 142\n",
      "epoch: 1 batch: 143\n",
      "epoch: 1 batch: 144\n",
      "epoch: 1 batch: 145\n",
      "epoch: 1 batch: 146\n",
      "epoch: 1 batch: 147\n",
      "epoch: 1 batch: 148\n",
      "epoch: 1 batch: 149\n",
      "epoch: 1 batch: 150\n",
      "epoch: 1 batch: 151\n",
      "epoch: 1 batch: 152\n",
      "epoch: 1 batch: 153\n",
      "epoch: 1 batch: 154\n",
      "epoch: 1 batch: 155\n",
      "epoch: 1 batch: 156\n",
      "epoch: 1 batch: 157\n",
      "epoch: 1 batch: 158\n",
      "epoch: 1 batch: 159\n",
      "epoch: 1 batch: 160\n",
      "epoch: 1 batch: 161\n",
      "epoch: 1 batch: 162\n",
      "epoch: 1 batch: 163\n",
      "epoch: 1 batch: 164\n",
      "epoch: 1 batch: 165\n",
      "epoch: 1 batch: 166\n"
     ]
    }
   ],
   "source": [
    "for epoch in range(cfg.epoch):\n",
    "\n",
    "    unet3d.train()\n",
    "    for i, batch in enumerate(train_loader):\n",
    "\n",
    "        data, label = batch\n",
    "        data = data.to(cfg.device)\n",
    "        label = label.to(cfg.device)\n",
    "\n",
    "        logits = unet3d(data)\n",
    "        loss = criteon(logits, label)\n",
    "        train_loss = loss.item()\n",
    "\n",
    "        optimizer.zero_grad()\n",
    "        loss.backward()\n",
    "        optimizer.step()\n",
    "        \n",
    "        # torch.save(unet3d.state_dict(), f'checkpoint/epoch{epoch+1}-batch{i+1}.mdl')\n",
    "        global_step += 1\n",
    "        print('epoch:', epoch+1, 'batch:', i+1)\n",
    "        viz.line([train_loss], [global_step], win='train_batch_loss', update='append')\n",
    "        \n",
    "        tra_pre = evlat.precision(logits, label, cfg.threshold)\n",
    "        viz.line([tra_pre], [global_step], win='train_batch_prec', update='append')\n",
    "\n",
    "        tra_rec = evlat.recall(logits, label, cfg.threshold)\n",
    "        viz.line([tra_rec], [global_step], win='train_batch_recal', update='append')\n",
    "\n",
    "        tra_pr_auc = evlat.pr_auc(logits, label)\n",
    "        viz.line([tra_pr_auc], [global_step], win='train_batch_pr_auc', update='append')\n",
    "\n",
    "        tra_roc_auc = evlat.roc_auc(logits, label)\n",
    "        viz.line([tra_roc_auc], [global_step], win='train_batch_roc_auc', update='append')\n",
    "\n",
    "        evlat.save_data('train_batch_loss', f'epoch{epoch+1}-batch{i+1}', train_loss)\n",
    "        evlat.sava_data('tra_batch_acc', \n",
    "                         f'epoch{epoch+1}-batch{i+1}', \n",
    "                         evlat.accuracy(logits, label, cfg.threshold))\n",
    "        evlat.save_data('tra_batch_pre', f'epoch{epoch+1}-batch{i+1}', tra_pre)\n",
    "        evlat.save_data('tra_batch_rec', f'epoch{epoch+1}-batch{i+1}', tra_rec)\n",
    "        evlat.save_data('tra_batch_pr_auc', f'epoch{epoch+1}-batch{i+1}', tra_pr_auc)\n",
    "        evlat.save_data('tra_batch_roc_auc', f'epoch{epoch+1}-batch{i+1}', tra_roc_auc)\n",
    "\n",
    "        if tra_pr_auc > tb_pr_auc:\n",
    "            tb_pr_auc = tra_pr_auc\n",
    "            torch.save(unet3d.state_dict(), \n",
    "                       f'checkpoint/resunet/epoch{epoch+1}-batch{i+1}.mdl') \n",
    "        \n",
    "        # break\n",
    "    \n",
    "\n",
    "    viz.line([train_loss], [epoch+1], win='train_epoch_loss', update='append')\n",
    "    # torch.save(unet3d.state_dict(), f'checkpoint/epoch{epoch+1}.mdl')\n",
    "    evlat.save_data('train_epoch_loss', f'epoch{epoch+1}', train_loss)\n",
    "    evlat.save_data('tra_epoch_acc', f'epoch{epoch+1}', evlat.accuracy(logits, label, cfg.threshold))\n",
    "    evlat.save_data('tra_epoch_pre', f'epoch{epoch+1}', tra_pre)\n",
    "    evlat.save_data('tra_epoch_rec', f'epoch{epoch+1}', tra_rec)\n",
    "    evlat.save_data('tra_epoch_pr_auc', f'epoch{epoch+1}', tra_pr_auc)\n",
    "    evlat.save_data('tra_epoch_roc_auc', f'epoch{epoch+1}', tra_roc_auc)\n",
    "    \n",
    "    unet3d.eval()\n",
    "    with torch.no_grad():\n",
    "\n",
    "        total_acc = 0   \n",
    "        total_precision = 0\n",
    "        total_recall = 0\n",
    "        total_loss = 0\n",
    "        total_pr_auc = 0\n",
    "        total_roc_auc = 0\n",
    "        total_num = 0\n",
    "\n",
    "        for x, y in valid_loader:\n",
    "\n",
    "            x = x.to(cfg.device)\n",
    "            y = y.to(cfg.device)\n",
    "\n",
    "            y_hat = unet3d(x)\n",
    "            \n",
    "            total_loss += criteon(y_hat, y)\n",
    "            total_acc += evlat.accuracy(y_hat, y, cfg.threshold)\n",
    "            total_precision += evlat.precision(y_hat, y, cfg.threshold)\n",
    "            total_recall += evlat.recall(y_hat, y, cfg.threshold)\n",
    "            total_pr_auc += evlat.pr_auc(y_hat, y)\n",
    "            total_roc_auc += evlat.roc_auc(y_hat, y)\n",
    "            total_num += 1\n",
    "            # break\n",
    "\n",
    "        val_los = total_loss / total_num\n",
    "        val_acc = total_acc / total_num\n",
    "        val_pre = total_precision / total_num\n",
    "        val_rec = total_recall / total_num\n",
    "        val_pr_auc = evlat.pr_auc(y_hat, y)\n",
    "        val_roc_auc = evlat.roc_auc(y_hat, y)\n",
    "\n",
    "        evlat.save_data('val_epoch_los', f'epoch{epoch+1}', val_los.item())\n",
    "        evlat.save_data('val_epoch_acc', f'epoch{epoch+1}', val_acc)\n",
    "        evlat.save_data('val_epoch_pre', f'epoch{epoch+1}', val_pre)\n",
    "        evlat.save_data('val_epoch_rec', f'epoch{epoch+1}', val_rec)\n",
    "        evlat.save_data('val_epoch_pr_auc', f'epoch{epoch+1}', val_pr_auc)\n",
    "        evlat.save_data('val_epoch_roc_auc', f'epoch{epoch+1}', val_roc_auc)\n",
    "\n",
    "        if val_pr_auc > best_pr_auc:\n",
    "\n",
    "            best_pre = val_pre\n",
    "            best_rec = val_rec\n",
    "            best_loss = val_los\n",
    "            best_pr_auc = val_pr_auc\n",
    "            best_roc_auc = val_roc_auc\n",
    "            best_epoch = epoch\n",
    "            torch.save(unet3d.state_dict(), 'checkpoint/resunet/best.mdl')\n",
    "\n",
    "        viz.line([val_pre], [epoch+1], win='validation_epoch_preci', update='append')\n",
    "        viz.line([val_rec], [epoch+1], win='validation_epoch_recal', update='append')\n",
    "        viz.line([val_los.item()], [epoch+1], win='validation_epoch_loss', update='append')\n",
    "        viz.line([val_pr_auc], [epoch+1], win='validation_epoch_pr_auc', update='append')\n",
    "        viz.line([val_roc_auc], [epoch+1], win='validation_epoch_roc_auc', update='append')\n",
    "    # break\n",
    "\n",
    "# 加载模型参数\n",
    "# unet3d.load_state_dict(torch.load('best.mdl'))"
   ]
  },
  {
   "cell_type": "code",
   "execution_count": 1,
   "metadata": {},
   "outputs": [
    {
     "ename": "NameError",
     "evalue": "name 'SingleSample' is not defined",
     "output_type": "error",
     "traceback": [
      "\u001b[1;31m---------------------------------------------------------------------------\u001b[0m",
      "\u001b[1;31mNameError\u001b[0m                                 Traceback (most recent call last)",
      "Cell \u001b[1;32mIn[1], line 3\u001b[0m\n\u001b[0;32m      1\u001b[0m path \u001b[38;5;241m=\u001b[39m \u001b[38;5;124m'\u001b[39m\u001b[38;5;124m./data/validation/seis/\u001b[39m\u001b[38;5;124m'\u001b[39m\n\u001b[0;32m      2\u001b[0m \u001b[38;5;28mid\u001b[39m \u001b[38;5;241m=\u001b[39m \u001b[38;5;241m10\u001b[39m\n\u001b[1;32m----> 3\u001b[0m ss0 \u001b[38;5;241m=\u001b[39m \u001b[43mSingleSample\u001b[49m(\u001b[38;5;124m'\u001b[39m\u001b[38;5;124mseis\u001b[39m\u001b[38;5;124m'\u001b[39m, path, \u001b[38;5;28mid\u001b[39m, cfg)\u001b[38;5;241m.\u001b[39mgetitem()\u001b[38;5;241m.\u001b[39mto(cfg\u001b[38;5;241m.\u001b[39mdevice)\n\u001b[0;32m      4\u001b[0m \u001b[38;5;28mprint\u001b[39m(ss0\u001b[38;5;241m.\u001b[39mshape, ss0\u001b[38;5;241m.\u001b[39mtype())\n\u001b[0;32m      5\u001b[0m label1 \u001b[38;5;241m=\u001b[39m SingleSample(\n\u001b[0;32m      6\u001b[0m     \u001b[38;5;124m'\u001b[39m\u001b[38;5;124mfault\u001b[39m\u001b[38;5;124m'\u001b[39m,\n\u001b[0;32m      7\u001b[0m     \u001b[38;5;124m'\u001b[39m\u001b[38;5;124m./data/validation/fault/\u001b[39m\u001b[38;5;124m'\u001b[39m, \n\u001b[0;32m      8\u001b[0m     \u001b[38;5;28mid\u001b[39m,\n\u001b[0;32m      9\u001b[0m     cfg)\u001b[38;5;241m.\u001b[39mgetitem()\u001b[38;5;241m.\u001b[39mto(cfg\u001b[38;5;241m.\u001b[39mdevice)\n",
      "\u001b[1;31mNameError\u001b[0m: name 'SingleSample' is not defined"
     ]
    }
   ],
   "source": [
    "path = './data/validation/seis/'\n",
    "id = 10\n",
    "ss0 = SingleSample('seis', path, id, cfg).getitem().to(cfg.device)\n",
    "print(ss0.shape, ss0.type())\n",
    "label1 = SingleSample(\n",
    "    'fault',\n",
    "    './data/validation/fault/', \n",
    "    id,\n",
    "    cfg).getitem().to(cfg.device)\n",
    "print(label1.shape, label1.type())"
   ]
  },
  {
   "cell_type": "code",
   "execution_count": 19,
   "metadata": {},
   "outputs": [
    {
     "name": "stdout",
     "output_type": "stream",
     "text": [
      "torch.cuda.FloatTensor\n",
      "tensor(194692, device='cuda:0') tensor(156797., device='cuda:0')\n"
     ]
    }
   ],
   "source": [
    "unet3d.eval()\n",
    "with torch.no_grad():\n",
    "    pred1 = unet3d(ss0)\n",
    "print(pred1.type())\n",
    "# print(pred1)\n",
    "# print(label1)\n",
    "print(pred1.ge(0.8).sum(), label1.sum())"
   ]
  },
  {
   "cell_type": "code",
   "execution_count": 20,
   "metadata": {},
   "outputs": [
    {
     "name": "stdout",
     "output_type": "stream",
     "text": [
      "torch.Size([1, 1, 128, 128, 128]) torch.Size([1, 1, 128, 128, 128])\n",
      "0.9630780220031738\n",
      "0.7038245022907977\n",
      "0.8739261593015173\n",
      "0.8617938768141283\n",
      "0.9741812809746285\n"
     ]
    }
   ],
   "source": [
    "print(pred1.shape, label1.shape)\n",
    "print(evlat.accuracy(pred1, label1, 0.8))\n",
    "print(evlat.precision(pred1, label1, 0.8))\n",
    "print(evlat.recall(pred1, label1, 0.8))\n",
    "print(evlat.pr_auc(pred1, label1))\n",
    "print(evlat.roc_auc(pred1, label1))"
   ]
  },
  {
   "cell_type": "code",
   "execution_count": 28,
   "metadata": {},
   "outputs": [
    {
     "name": "stdout",
     "output_type": "stream",
     "text": [
      "float32 (2097152,)\n"
     ]
    }
   ],
   "source": [
    "pred1np = evlat._flatten2np(pred1)\n",
    "print(pred1np.dtype, pred1np.shape)\n",
    "pred1np.tofile(f'data/pred{1}.dat')"
   ]
  },
  {
   "cell_type": "markdown",
   "metadata": {},
   "source": [
    "# 绘图"
   ]
  },
  {
   "cell_type": "markdown",
   "metadata": {},
   "source": [
    "- 载入模型"
   ]
  },
  {
   "cell_type": "code",
   "execution_count": 3,
   "metadata": {},
   "outputs": [],
   "source": [
    "import torch\n",
    "import torch.nn.functional as F\n",
    "import torch.nn as nn\n",
    "import numpy as np\n",
    "import os, hashlib, csv, glob\n",
    "from evaluate import Evaluate\n",
    "from torch.utils.data import Dataset, DataLoader\n",
    "from torch import optim\n",
    "from config import Config\n",
    "from unet3d import Unet3D, BalancedCrossEntropyLoss, BatchBalancedCrossEntropyLoss\n",
    "from resunet3d import Res18Unet3D\n",
    "from dataset import FaultData, SingleSample\n",
    "from checkdata import CheckData\n",
    "evlat = Evaluate()\n",
    "cfg = Config()\n",
    "checker = CheckData()"
   ]
  },
  {
   "cell_type": "code",
   "execution_count": 6,
   "metadata": {},
   "outputs": [],
   "source": [
    "unet3d = Res18Unet3D(cfg).to(cfg.device)\n",
    "unet3d.load_state_dict(torch.load('checkpoint/resunet/leakyrelu/best.mdl'))\n",
    "optimizer = optim.Adam(unet3d.parameters(), lr=cfg.lr)\n",
    "criteon = BatchBalancedCrossEntropyLoss().to(cfg.device)"
   ]
  },
  {
   "cell_type": "code",
   "execution_count": 7,
   "metadata": {},
   "outputs": [
    {
     "name": "stdout",
     "output_type": "stream",
     "text": [
      "------------------------------------------------------------------------------------------\n",
      "|           weight name          |               weight shape               |   number   |\n",
      "------------------------------------------------------------------------------------------\n",
      "| down1.conv1.0.weight           | torch.Size([16, 1, 3, 3, 3])             | 432        |\n",
      "| down1.conv1.0.bias             | torch.Size([16])                         | 16         |\n",
      "| down1.conv1.1.weight           | torch.Size([16])                         | 16         |\n",
      "| down1.conv1.1.bias             | torch.Size([16])                         | 16         |\n",
      "| down1.conv2.0.weight           | torch.Size([16, 16, 3, 3, 3])            | 6912       |\n",
      "| down1.conv2.0.bias             | torch.Size([16])                         | 16         |\n",
      "| down1.conv2.1.weight           | torch.Size([16])                         | 16         |\n",
      "| down1.conv2.1.bias             | torch.Size([16])                         | 16         |\n",
      "| down1.extra.0.weight           | torch.Size([16, 1, 1, 1, 1])             | 16         |\n",
      "| down1.extra.0.bias             | torch.Size([16])                         | 16         |\n",
      "| down1.extra.1.weight           | torch.Size([16])                         | 16         |\n",
      "| down1.extra.1.bias             | torch.Size([16])                         | 16         |\n",
      "| down2.1.conv1.0.weight         | torch.Size([32, 16, 3, 3, 3])            | 13824      |\n",
      "| down2.1.conv1.0.bias           | torch.Size([32])                         | 32         |\n",
      "| down2.1.conv1.1.weight         | torch.Size([32])                         | 32         |\n",
      "| down2.1.conv1.1.bias           | torch.Size([32])                         | 32         |\n",
      "| down2.1.conv2.0.weight         | torch.Size([32, 32, 3, 3, 3])            | 27648      |\n",
      "| down2.1.conv2.0.bias           | torch.Size([32])                         | 32         |\n",
      "| down2.1.conv2.1.weight         | torch.Size([32])                         | 32         |\n",
      "| down2.1.conv2.1.bias           | torch.Size([32])                         | 32         |\n",
      "| down2.1.extra.0.weight         | torch.Size([32, 16, 1, 1, 1])            | 512        |\n",
      "| down2.1.extra.0.bias           | torch.Size([32])                         | 32         |\n",
      "| down2.1.extra.1.weight         | torch.Size([32])                         | 32         |\n",
      "| down2.1.extra.1.bias           | torch.Size([32])                         | 32         |\n",
      "| down3.1.conv1.0.weight         | torch.Size([64, 32, 3, 3, 3])            | 55296      |\n",
      "| down3.1.conv1.0.bias           | torch.Size([64])                         | 64         |\n",
      "| down3.1.conv1.1.weight         | torch.Size([64])                         | 64         |\n",
      "| down3.1.conv1.1.bias           | torch.Size([64])                         | 64         |\n",
      "| down3.1.conv2.0.weight         | torch.Size([64, 64, 3, 3, 3])            | 110592     |\n",
      "| down3.1.conv2.0.bias           | torch.Size([64])                         | 64         |\n",
      "| down3.1.conv2.1.weight         | torch.Size([64])                         | 64         |\n",
      "| down3.1.conv2.1.bias           | torch.Size([64])                         | 64         |\n",
      "| down3.1.extra.0.weight         | torch.Size([64, 32, 1, 1, 1])            | 2048       |\n",
      "| down3.1.extra.0.bias           | torch.Size([64])                         | 64         |\n",
      "| down3.1.extra.1.weight         | torch.Size([64])                         | 64         |\n",
      "| down3.1.extra.1.bias           | torch.Size([64])                         | 64         |\n",
      "| down4.1.conv1.0.weight         | torch.Size([128, 64, 3, 3, 3])           | 221184     |\n",
      "| down4.1.conv1.0.bias           | torch.Size([128])                        | 128        |\n",
      "| down4.1.conv1.1.weight         | torch.Size([128])                        | 128        |\n",
      "| down4.1.conv1.1.bias           | torch.Size([128])                        | 128        |\n",
      "| down4.1.conv2.0.weight         | torch.Size([128, 128, 3, 3, 3])          | 442368     |\n",
      "| down4.1.conv2.0.bias           | torch.Size([128])                        | 128        |\n",
      "| down4.1.conv2.1.weight         | torch.Size([128])                        | 128        |\n",
      "| down4.1.conv2.1.bias           | torch.Size([128])                        | 128        |\n",
      "| down4.1.extra.0.weight         | torch.Size([128, 64, 1, 1, 1])           | 8192       |\n",
      "| down4.1.extra.0.bias           | torch.Size([128])                        | 128        |\n",
      "| down4.1.extra.1.weight         | torch.Size([128])                        | 128        |\n",
      "| down4.1.extra.1.bias           | torch.Size([128])                        | 128        |\n",
      "| botton.1.conv1.0.weight        | torch.Size([256, 128, 3, 3, 3])          | 884736     |\n",
      "| botton.1.conv1.0.bias          | torch.Size([256])                        | 256        |\n",
      "| botton.1.conv1.1.weight        | torch.Size([256])                        | 256        |\n",
      "| botton.1.conv1.1.bias          | torch.Size([256])                        | 256        |\n",
      "| botton.1.conv2.0.weight        | torch.Size([256, 256, 3, 3, 3])          | 1769472    |\n",
      "| botton.1.conv2.0.bias          | torch.Size([256])                        | 256        |\n",
      "| botton.1.conv2.1.weight        | torch.Size([256])                        | 256        |\n",
      "| botton.1.conv2.1.bias          | torch.Size([256])                        | 256        |\n",
      "| botton.1.extra.0.weight        | torch.Size([256, 128, 1, 1, 1])          | 32768      |\n",
      "| botton.1.extra.0.bias          | torch.Size([256])                        | 256        |\n",
      "| botton.1.extra.1.weight        | torch.Size([256])                        | 256        |\n",
      "| botton.1.extra.1.bias          | torch.Size([256])                        | 256        |\n",
      "| up1.0.conv1.0.weight           | torch.Size([128, 384, 3, 3, 3])          | 1327104    |\n",
      "| up1.0.conv1.0.bias             | torch.Size([128])                        | 128        |\n",
      "| up1.0.conv1.1.weight           | torch.Size([128])                        | 128        |\n",
      "| up1.0.conv1.1.bias             | torch.Size([128])                        | 128        |\n",
      "| up1.0.conv2.0.weight           | torch.Size([128, 128, 3, 3, 3])          | 442368     |\n",
      "| up1.0.conv2.0.bias             | torch.Size([128])                        | 128        |\n",
      "| up1.0.conv2.1.weight           | torch.Size([128])                        | 128        |\n",
      "| up1.0.conv2.1.bias             | torch.Size([128])                        | 128        |\n",
      "| up1.0.extra.0.weight           | torch.Size([128, 384, 1, 1, 1])          | 49152      |\n",
      "| up1.0.extra.0.bias             | torch.Size([128])                        | 128        |\n",
      "| up1.0.extra.1.weight           | torch.Size([128])                        | 128        |\n",
      "| up1.0.extra.1.bias             | torch.Size([128])                        | 128        |\n",
      "| up2.0.conv1.0.weight           | torch.Size([64, 192, 3, 3, 3])           | 331776     |\n",
      "| up2.0.conv1.0.bias             | torch.Size([64])                         | 64         |\n",
      "| up2.0.conv1.1.weight           | torch.Size([64])                         | 64         |\n",
      "| up2.0.conv1.1.bias             | torch.Size([64])                         | 64         |\n",
      "| up2.0.conv2.0.weight           | torch.Size([64, 64, 3, 3, 3])            | 110592     |\n",
      "| up2.0.conv2.0.bias             | torch.Size([64])                         | 64         |\n",
      "| up2.0.conv2.1.weight           | torch.Size([64])                         | 64         |\n",
      "| up2.0.conv2.1.bias             | torch.Size([64])                         | 64         |\n",
      "| up2.0.extra.0.weight           | torch.Size([64, 192, 1, 1, 1])           | 12288      |\n",
      "| up2.0.extra.0.bias             | torch.Size([64])                         | 64         |\n",
      "| up2.0.extra.1.weight           | torch.Size([64])                         | 64         |\n",
      "| up2.0.extra.1.bias             | torch.Size([64])                         | 64         |\n",
      "| up3.0.conv1.0.weight           | torch.Size([32, 96, 3, 3, 3])            | 82944      |\n",
      "| up3.0.conv1.0.bias             | torch.Size([32])                         | 32         |\n",
      "| up3.0.conv1.1.weight           | torch.Size([32])                         | 32         |\n",
      "| up3.0.conv1.1.bias             | torch.Size([32])                         | 32         |\n",
      "| up3.0.conv2.0.weight           | torch.Size([32, 32, 3, 3, 3])            | 27648      |\n",
      "| up3.0.conv2.0.bias             | torch.Size([32])                         | 32         |\n",
      "| up3.0.conv2.1.weight           | torch.Size([32])                         | 32         |\n",
      "| up3.0.conv2.1.bias             | torch.Size([32])                         | 32         |\n",
      "| up3.0.extra.0.weight           | torch.Size([32, 96, 1, 1, 1])            | 3072       |\n",
      "| up3.0.extra.0.bias             | torch.Size([32])                         | 32         |\n",
      "| up3.0.extra.1.weight           | torch.Size([32])                         | 32         |\n",
      "| up3.0.extra.1.bias             | torch.Size([32])                         | 32         |\n",
      "| up4.0.conv1.0.weight           | torch.Size([16, 48, 3, 3, 3])            | 20736      |\n",
      "| up4.0.conv1.0.bias             | torch.Size([16])                         | 16         |\n",
      "| up4.0.conv1.1.weight           | torch.Size([16])                         | 16         |\n",
      "| up4.0.conv1.1.bias             | torch.Size([16])                         | 16         |\n",
      "| up4.0.conv2.0.weight           | torch.Size([16, 16, 3, 3, 3])            | 6912       |\n",
      "| up4.0.conv2.0.bias             | torch.Size([16])                         | 16         |\n",
      "| up4.0.conv2.1.weight           | torch.Size([16])                         | 16         |\n",
      "| up4.0.conv2.1.bias             | torch.Size([16])                         | 16         |\n",
      "| up4.0.extra.0.weight           | torch.Size([16, 48, 1, 1, 1])            | 768        |\n",
      "| up4.0.extra.0.bias             | torch.Size([16])                         | 16         |\n",
      "| up4.0.extra.1.weight           | torch.Size([16])                         | 16         |\n",
      "| up4.0.extra.1.bias             | torch.Size([16])                         | 16         |\n",
      "| up4.1.weight                   | torch.Size([1, 16, 3, 3, 3])             | 432        |\n",
      "| up4.1.bias                     | torch.Size([1])                          | 1          |\n",
      "------------------------------------------------------------------------------------------\n",
      "The total number of parameters: 5998417\n",
      "The parameters of Model Res18Unet3D: 5.998417M\n",
      "------------------------------------------------------------------------------------------\n"
     ]
    }
   ],
   "source": [
    "evlat.model_structure(unet3d)"
   ]
  },
  {
   "cell_type": "code",
   "execution_count": 4,
   "metadata": {},
   "outputs": [
    {
     "name": "stdout",
     "output_type": "stream",
     "text": [
      "----------------------------------------------------------------\n",
      "        Layer (type)               Output Shape         Param #\n",
      "================================================================\n",
      "            Conv3d-1    [-1, 16, 128, 128, 128]             448\n",
      "              ReLU-2    [-1, 16, 128, 128, 128]               0\n",
      "            Conv3d-3    [-1, 16, 128, 128, 128]           6,928\n",
      "              ReLU-4    [-1, 16, 128, 128, 128]               0\n",
      "         MaxPool3d-5       [-1, 16, 64, 64, 64]               0\n",
      "            Conv3d-6       [-1, 32, 64, 64, 64]          13,856\n",
      "              ReLU-7       [-1, 32, 64, 64, 64]               0\n",
      "            Conv3d-8       [-1, 32, 64, 64, 64]          27,680\n",
      "              ReLU-9       [-1, 32, 64, 64, 64]               0\n",
      "        MaxPool3d-10       [-1, 32, 32, 32, 32]               0\n",
      "           Conv3d-11       [-1, 64, 32, 32, 32]          55,360\n",
      "             ReLU-12       [-1, 64, 32, 32, 32]               0\n",
      "           Conv3d-13       [-1, 64, 32, 32, 32]         110,656\n",
      "             ReLU-14       [-1, 64, 32, 32, 32]               0\n",
      "        MaxPool3d-15       [-1, 64, 16, 16, 16]               0\n",
      "           Conv3d-16      [-1, 128, 16, 16, 16]         221,312\n",
      "             ReLU-17      [-1, 128, 16, 16, 16]               0\n",
      "           Conv3d-18      [-1, 128, 16, 16, 16]         442,496\n",
      "             ReLU-19      [-1, 128, 16, 16, 16]               0\n",
      "         Upsample-20      [-1, 128, 32, 32, 32]               0\n",
      "           Conv3d-21       [-1, 64, 32, 32, 32]         331,840\n",
      "             ReLU-22       [-1, 64, 32, 32, 32]               0\n",
      "           Conv3d-23       [-1, 64, 32, 32, 32]         110,656\n",
      "             ReLU-24       [-1, 64, 32, 32, 32]               0\n",
      "         Upsample-25       [-1, 64, 64, 64, 64]               0\n",
      "           Conv3d-26       [-1, 32, 64, 64, 64]          82,976\n",
      "             ReLU-27       [-1, 32, 64, 64, 64]               0\n",
      "           Conv3d-28       [-1, 32, 64, 64, 64]          27,680\n",
      "             ReLU-29       [-1, 32, 64, 64, 64]               0\n",
      "         Upsample-30    [-1, 32, 128, 128, 128]               0\n",
      "           Conv3d-31    [-1, 16, 128, 128, 128]          20,752\n",
      "             ReLU-32    [-1, 16, 128, 128, 128]               0\n",
      "           Conv3d-33    [-1, 16, 128, 128, 128]           6,928\n",
      "             ReLU-34    [-1, 16, 128, 128, 128]               0\n",
      "           Conv3d-35     [-1, 1, 128, 128, 128]             433\n",
      "          Sigmoid-36     [-1, 1, 128, 128, 128]               0\n",
      "================================================================\n",
      "Total params: 1,460,001\n",
      "Trainable params: 1,460,001\n",
      "Non-trainable params: 0\n",
      "----------------------------------------------------------------\n",
      "Input size (MB): 8.00\n",
      "Forward/backward pass size (MB): 3450.00\n",
      "Params size (MB): 5.57\n",
      "Estimated Total Size (MB): 3463.57\n",
      "----------------------------------------------------------------\n"
     ]
    }
   ],
   "source": [
    "# from torchsummary import summary\n",
    "\n",
    "# summary(unet3d, input_size=(1,128,128,128))\n",
    "evlat.model_summary(unet3d)"
   ]
  },
  {
   "cell_type": "code",
   "execution_count": 8,
   "metadata": {},
   "outputs": [],
   "source": [
    "# from torchstat import stat\n",
    "\n",
    "# stat(unet3d, (1,128,128,128))"
   ]
  },
  {
   "cell_type": "code",
   "execution_count": 5,
   "metadata": {},
   "outputs": [
    {
     "name": "stdout",
     "output_type": "stream",
     "text": [
      "initialization successful!\n",
      "valid data len is 20\n"
     ]
    }
   ],
   "source": [
    "valid_data = FaultData('valid', cfg)\n",
    "# pred_data = FaultData('pred', cfg)"
   ]
  },
  {
   "cell_type": "code",
   "execution_count": 6,
   "metadata": {},
   "outputs": [
    {
     "name": "stdout",
     "output_type": "stream",
     "text": [
      "validation data batch num: 3 , batch size is 8\n",
      "20\n"
     ]
    }
   ],
   "source": [
    "valid_loader = DataLoader(valid_data, batch_size=cfg.batch_size, shuffle=True)\n",
    "# pred_loader = DataLoader(pred_data, batch_size=cfg.batch_size, shuffle=False)\n",
    "print('validation data batch num:', len(valid_loader), ', batch size is', cfg.batch_size)\n",
    "print(len(valid_loader.dataset))"
   ]
  },
  {
   "cell_type": "markdown",
   "metadata": {},
   "source": [
    "- 效果验证"
   ]
  },
  {
   "cell_type": "code",
   "execution_count": 7,
   "metadata": {},
   "outputs": [],
   "source": [
    "best_pr_auc = 0\n",
    "# best_pr_auc = 1\n",
    "\n",
    "unet3d.eval()\n",
    "with torch.no_grad():\n",
    "\n",
    "    for x, y in valid_loader:\n",
    "\n",
    "        x = x.to(cfg.device)\n",
    "        y = y.to(cfg.device)\n",
    "\n",
    "        y_hat = unet3d(x)\n",
    "\n",
    "        if evlat.pr_auc(y_hat, y) > best_pr_auc:\n",
    "            best_pr_auc = evlat.pr_auc(y_hat, y)\n",
    "            logits = y_hat\n",
    "            label = y\n",
    "        # break\n"
   ]
  },
  {
   "cell_type": "code",
   "execution_count": 8,
   "metadata": {},
   "outputs": [
    {
     "name": "stdout",
     "output_type": "stream",
     "text": [
      "0.9076425628835083\n",
      "0.9854710414443701\n"
     ]
    }
   ],
   "source": [
    "print(evlat.pr_auc(logits, label))\n",
    "print(evlat.roc_auc(logits, label))\n",
    "# print(y.sum())"
   ]
  },
  {
   "cell_type": "code",
   "execution_count": 11,
   "metadata": {},
   "outputs": [
    {
     "data": {
      "image/png": "[encoded data removed]",
      "text/plain": [
       "<Figure size 800x600 with 1 Axes>"
      ]
     },
     "metadata": {},
     "output_type": "display_data"
    }
   ],
   "source": [
    "import numpy as np\n",
    "import matplotlib.pyplot as plt\n",
    "from sklearn.metrics import auc\n",
    "\n",
    "precision, recall, _ = evlat.pr_curve(logits, label)\n",
    "fpr, tpr, _ = evlat.roc_curve(logits, label)\n",
    "\n",
    "\n",
    "# for i in range(len(_)):\n",
    "#     print(precision[i], recall[i], _[i])\n",
    "\n",
    "# 计算曲线下面积（AUC）\n",
    "roc_auc = auc(fpr, tpr)\n",
    "pr_auc = auc(recall, precision)\n",
    "\n",
    "# 绘制PR曲线\n",
    "plt.figure(figsize=(8, 6))\n",
    "plt.plot(recall, precision, color='navy', lw=2, label=f'PR curve (AUC = {pr_auc:.2f})')\n",
    "plt.plot(fpr, tpr, color='darkorange', lw=2, label=f'ROC curve (AUC = {roc_auc:.2f})')\n",
    "# plt.plot([0, 1], [0, 1], color='gray', linestyle='--')\n",
    "plt.xlabel('False Positive Rate / Recall')\n",
    "plt.ylabel('True Positive Rate / Precision')\n",
    "plt.title('ROC and PR Curves')\n",
    "# PR\n",
    "# plt.xlabel('Recall')\n",
    "# plt.ylabel('Precision')\n",
    "# plt.title('PR Curve')\n",
    "# ROC\n",
    "# plt.xlabel('False Positive Rate')\n",
    "# plt.ylabel('True Positive Rate')\n",
    "# plt.title('ROC Curves')\n",
    "# plt.legend(loc='lower right')\n",
    "plt.legend(loc='lower center')\n",
    "# plt.plot(recall, precision, label=f'PR Curve (AUC = {area:.2f})', color='b')\n",
    "# plt.xlabel('Recall')\n",
    "# plt.ylabel('Precision')\n",
    "# plt.title('Precision-Recall Curve')\n",
    "# plt.xlabel('TPR')\n",
    "# plt.ylabel('FPR')\n",
    "# plt.title('ROC Curve')\n",
    "# plt.legend()\n",
    "plt.show()"
   ]
  },
  {
   "cell_type": "markdown",
   "metadata": {},
   "source": [
    "# 切割数据"
   ]
  },
  {
   "cell_type": "code",
   "execution_count": 1,
   "metadata": {},
   "outputs": [],
   "source": [
    "import segyio\n",
    "import numpy as np\n",
    "import matplotlib.pyplot as plt\n",
    "import csv\n",
    "import os\n",
    "from sgykit import Sgykit\n",
    "from generatadata import save_data"
   ]
  },
  {
   "cell_type": "markdown",
   "metadata": {},
   "source": [
    "- 文件路径"
   ]
  },
  {
   "cell_type": "code",
   "execution_count": 2,
   "metadata": {},
   "outputs": [
    {
     "name": "stdout",
     "output_type": "stream",
     "text": [
      "sgy shape is : (1301, 601, 3201)\n",
      "Inline can be sliced 10 section. There are 21 remainder.\n",
      "Crossline can be sliced 4 section. There are 89 remainder.\n",
      "Time can be sliced 25 section. There are 1 remainder.\n",
      "Blocks is 1000\n"
     ]
    }
   ],
   "source": [
    "fileName = 'data/segy/ori_slice.segy'  # 自己的路径\n",
    "sgykit = Sgykit(fileName)"
   ]
  },
  {
   "cell_type": "code",
   "execution_count": 3,
   "metadata": {},
   "outputs": [
    {
     "name": "stdout",
     "output_type": "stream",
     "text": [
      "About 'H:/LocalDisk/project/CuanDongBei/slice1.segy'\n",
      "Format type: 4-byte IEEE float\n",
      "Offset count: [0]\n",
      "Samples: [ 600.  601.  602. ... 3798. 3799. 3800.]\n",
      "Unstructured: False\n",
      "Ext_headers: 0\n",
      "ilines: 550, 551, 552, 553, 554, 555, 556, 557, 558, 559, 560, 561, 562, 563, 564, 565, 566, 567, 568, 569, 570, 571, 572, 573, 574, 575, 576, 577, 578, 579, 580, 581, 582, 583, 584, 585, 586, 587, 588, 589, 590, 591, 592, 593, 594, 595, 596, 597, 598, 599, 600, 601, 602, 603, 604, 605, 606, 607, 608, 609, 610, 611, 612, 613, 614, 615, 616, 617, 618, 619, 620, 621, 622, 623, 624, 625, 626, 627, 628, 629, 630, 631, 632, 633, 634, 635, 636, 637, 638, 639, 640, 641, 642, 643, 644, 645, 646, 647, 648, 649, 650, 651, 652, 653, 654, 655, 656, 657, 658, 659, 660, 661, 662, 663, 664, 665, 666, 667, 668, 669, 670, 671, 672, 673, 674, 675, 676, 677, 678, 679, 680, 681, 682, 683, 684, 685, 686, 687, 688, 689, 690, 691, 692, 693, 694, 695, 696, 697, 698, 699, 700, 701, 702, 703, 704, 705, 706, 707, 708, 709, 710, 711, 712, 713, 714, 715, 716, 717, 718, 719, 720, 721, 722, 723, 724, 725, 726, 727, 728, 729, 730, 731, 732, 733, 734, 735, 736, 737, 738, 739, 740, 741, 742, 743, 744, 745, 746, 747, 748, 749, 750, 751, 752, 753, 754, 755, 756, 757, 758, 759, 760, 761, 762, 763, 764, 765, 766, 767, 768, 769, 770, 771, 772, 773, 774, 775, 776, 777, 778, 779, 780, 781, 782, 783, 784, 785, 786, 787, 788, 789, 790, 791, 792, 793, 794, 795, 796, 797, 798, 799, 800, 801, 802, 803, 804, 805, 806, 807, 808, 809, 810, 811, 812, 813, 814, 815, 816, 817, 818, 819, 820, 821, 822, 823, 824, 825, 826, 827, 828, 829, 830, 831, 832, 833, 834, 835, 836, 837, 838, 839, 840, 841, 842, 843, 844, 845, 846, 847, 848, 849, 850, 851, 852, 853, 854, 855, 856, 857, 858, 859, 860, 861, 862, 863, 864, 865, 866, 867, 868, 869, 870, 871, 872, 873, 874, 875, 876, 877, 878, 879, 880, 881, 882, 883, 884, 885, 886, 887, 888, 889, 890, 891, 892, 893, 894, 895, 896, 897, 898, 899, 900, 901, 902, 903, 904, 905, 906, 907, 908, 909, 910, 911, 912, 913, 914, 915, 916, 917, 918, 919, 920, 921, 922, 923, 924, 925, 926, 927, 928, 929, 930, 931, 932, 933, 934, 935, 936, 937, 938, 939, 940, 941, 942, 943, 944, 945, 946, 947, 948, 949, 950, 951, 952, 953, 954, 955, 956, 957, 958, 959, 960, 961, 962, 963, 964, 965, 966, 967, 968, 969, 970, 971, 972, 973, 974, 975, 976, 977, 978, 979, 980, 981, 982, 983, 984, 985, 986, 987, 988, 989, 990, 991, 992, 993, 994, 995, 996, 997, 998, 999, 1000, 1001, 1002, 1003, 1004, 1005, 1006, 1007, 1008, 1009, 1010, 1011, 1012, 1013, 1014, 1015, 1016, 1017, 1018, 1019, 1020, 1021, 1022, 1023, 1024, 1025, 1026, 1027, 1028, 1029, 1030, 1031, 1032, 1033, 1034, 1035, 1036, 1037, 1038, 1039, 1040, 1041, 1042, 1043, 1044, 1045, 1046, 1047, 1048, 1049, 1050, 1051, 1052, 1053, 1054, 1055, 1056, 1057, 1058, 1059, 1060, 1061, 1062, 1063, 1064, 1065, 1066, 1067, 1068, 1069, 1070, 1071, 1072, 1073, 1074, 1075, 1076, 1077, 1078, 1079, 1080, 1081, 1082, 1083, 1084, 1085, 1086, 1087, 1088, 1089, 1090, 1091, 1092, 1093, 1094, 1095, 1096, 1097, 1098, 1099, 1100, 1101, 1102, 1103, 1104, 1105, 1106, 1107, 1108, 1109, 1110, 1111, 1112, 1113, 1114, 1115, 1116, 1117, 1118, 1119, 1120, 1121, 1122, 1123, 1124, 1125, 1126, 1127, 1128, 1129, 1130, 1131, 1132, 1133, 1134, 1135, 1136, 1137, 1138, 1139, 1140, 1141, 1142, 1143, 1144, 1145, 1146, 1147, 1148, 1149, 1150, 1151, 1152, 1153, 1154, 1155, 1156, 1157, 1158, 1159, 1160, 1161, 1162, 1163, 1164, 1165, 1166, 1167, 1168, 1169, 1170, 1171, 1172, 1173, 1174, 1175, 1176, 1177, 1178, 1179, 1180, 1181, 1182, 1183, 1184, 1185, 1186, 1187, 1188, 1189, 1190, 1191, 1192, 1193, 1194, 1195, 1196, 1197, 1198, 1199, 1200, 1201, 1202, 1203, 1204, 1205, 1206, 1207, 1208, 1209, 1210, 1211, 1212, 1213, 1214, 1215, 1216, 1217, 1218, 1219, 1220, 1221, 1222, 1223, 1224, 1225, 1226, 1227, 1228, 1229, 1230, 1231, 1232, 1233, 1234, 1235, 1236, 1237, 1238, 1239, 1240, 1241, 1242, 1243, 1244, 1245, 1246, 1247, 1248, 1249, 1250, 1251, 1252, 1253, 1254, 1255, 1256, 1257, 1258, 1259, 1260, 1261, 1262, 1263, 1264, 1265, 1266, 1267, 1268, 1269, 1270, 1271, 1272, 1273, 1274, 1275, 1276, 1277, 1278, 1279, 1280, 1281, 1282, 1283, 1284, 1285, 1286, 1287, 1288, 1289, 1290, 1291, 1292, 1293, 1294, 1295, 1296, 1297, 1298, 1299, 1300, 1301, 1302, 1303, 1304, 1305, 1306, 1307, 1308, 1309, 1310, 1311, 1312, 1313, 1314, 1315, 1316, 1317, 1318, 1319, 1320, 1321, 1322, 1323, 1324, 1325, 1326, 1327, 1328, 1329, 1330, 1331, 1332, 1333, 1334, 1335, 1336, 1337, 1338, 1339, 1340, 1341, 1342, 1343, 1344, 1345, 1346, 1347, 1348, 1349, 1350, 1351, 1352, 1353, 1354, 1355, 1356, 1357, 1358, 1359, 1360, 1361, 1362, 1363, 1364, 1365, 1366, 1367, 1368, 1369, 1370, 1371, 1372, 1373, 1374, 1375, 1376, 1377, 1378, 1379, 1380, 1381, 1382, 1383, 1384, 1385, 1386, 1387, 1388, 1389, 1390, 1391, 1392, 1393, 1394, 1395, 1396, 1397, 1398, 1399, 1400, 1401, 1402, 1403, 1404, 1405, 1406, 1407, 1408, 1409, 1410, 1411, 1412, 1413, 1414, 1415, 1416, 1417, 1418, 1419, 1420, 1421, 1422, 1423, 1424, 1425, 1426, 1427, 1428, 1429, 1430, 1431, 1432, 1433, 1434, 1435, 1436, 1437, 1438, 1439, 1440, 1441, 1442, 1443, 1444, 1445, 1446, 1447, 1448, 1449, 1450, 1451, 1452, 1453, 1454, 1455, 1456, 1457, 1458, 1459, 1460, 1461, 1462, 1463, 1464, 1465, 1466, 1467, 1468, 1469, 1470, 1471, 1472, 1473, 1474, 1475, 1476, 1477, 1478, 1479, 1480, 1481, 1482, 1483, 1484, 1485, 1486, 1487, 1488, 1489, 1490, 1491, 1492, 1493, 1494, 1495, 1496, 1497, 1498, 1499, 1500, 1501, 1502, 1503, 1504, 1505, 1506, 1507, 1508, 1509, 1510, 1511, 1512, 1513, 1514, 1515, 1516, 1517, 1518, 1519, 1520, 1521, 1522, 1523, 1524, 1525, 1526, 1527, 1528, 1529, 1530, 1531, 1532, 1533, 1534, 1535, 1536, 1537, 1538, 1539, 1540, 1541, 1542, 1543, 1544, 1545, 1546, 1547, 1548, 1549, 1550, 1551, 1552, 1553, 1554, 1555, 1556, 1557, 1558, 1559, 1560, 1561, 1562, 1563, 1564, 1565, 1566, 1567, 1568, 1569, 1570, 1571, 1572, 1573, 1574, 1575, 1576, 1577, 1578, 1579, 1580, 1581, 1582, 1583, 1584, 1585, 1586, 1587, 1588, 1589, 1590, 1591, 1592, 1593, 1594, 1595, 1596, 1597, 1598, 1599, 1600, 1601, 1602, 1603, 1604, 1605, 1606, 1607, 1608, 1609, 1610, 1611, 1612, 1613, 1614, 1615, 1616, 1617, 1618, 1619, 1620, 1621, 1622, 1623, 1624, 1625, 1626, 1627, 1628, 1629, 1630, 1631, 1632, 1633, 1634, 1635, 1636, 1637, 1638, 1639, 1640, 1641, 1642, 1643, 1644, 1645, 1646, 1647, 1648, 1649, 1650, 1651, 1652, 1653, 1654, 1655, 1656, 1657, 1658, 1659, 1660, 1661, 1662, 1663, 1664, 1665, 1666, 1667, 1668, 1669, 1670, 1671, 1672, 1673, 1674, 1675, 1676, 1677, 1678, 1679, 1680, 1681, 1682, 1683, 1684, 1685, 1686, 1687, 1688, 1689, 1690, 1691, 1692, 1693, 1694, 1695, 1696, 1697, 1698, 1699, 1700, 1701, 1702, 1703, 1704, 1705, 1706, 1707, 1708, 1709, 1710, 1711, 1712, 1713, 1714, 1715, 1716, 1717, 1718, 1719, 1720, 1721, 1722, 1723, 1724, 1725, 1726, 1727, 1728, 1729, 1730, 1731, 1732, 1733, 1734, 1735, 1736, 1737, 1738, 1739, 1740, 1741, 1742, 1743, 1744, 1745, 1746, 1747, 1748, 1749, 1750, 1751, 1752, 1753, 1754, 1755, 1756, 1757, 1758, 1759, 1760, 1761, 1762, 1763, 1764, 1765, 1766, 1767, 1768, 1769, 1770, 1771, 1772, 1773, 1774, 1775, 1776, 1777, 1778, 1779, 1780, 1781, 1782, 1783, 1784, 1785, 1786, 1787, 1788, 1789, 1790, 1791, 1792, 1793, 1794, 1795, 1796, 1797, 1798, 1799, 1800, 1801, 1802, 1803, 1804, 1805, 1806, 1807, 1808, 1809, 1810, 1811, 1812, 1813, 1814, 1815, 1816, 1817, 1818, 1819, 1820, 1821, 1822, 1823, 1824, 1825, 1826, 1827, 1828, 1829, 1830, 1831, 1832, 1833, 1834, 1835, 1836, 1837, 1838, 1839, 1840, 1841, 1842, 1843, 1844, 1845, 1846, 1847, 1848, 1849, 1850\n",
      "xlines: 700, 701, 702, 703, 704, 705, 706, 707, 708, 709, 710, 711, 712, 713, 714, 715, 716, 717, 718, 719, 720, 721, 722, 723, 724, 725, 726, 727, 728, 729, 730, 731, 732, 733, 734, 735, 736, 737, 738, 739, 740, 741, 742, 743, 744, 745, 746, 747, 748, 749, 750, 751, 752, 753, 754, 755, 756, 757, 758, 759, 760, 761, 762, 763, 764, 765, 766, 767, 768, 769, 770, 771, 772, 773, 774, 775, 776, 777, 778, 779, 780, 781, 782, 783, 784, 785, 786, 787, 788, 789, 790, 791, 792, 793, 794, 795, 796, 797, 798, 799, 800, 801, 802, 803, 804, 805, 806, 807, 808, 809, 810, 811, 812, 813, 814, 815, 816, 817, 818, 819, 820, 821, 822, 823, 824, 825, 826, 827, 828, 829, 830, 831, 832, 833, 834, 835, 836, 837, 838, 839, 840, 841, 842, 843, 844, 845, 846, 847, 848, 849, 850, 851, 852, 853, 854, 855, 856, 857, 858, 859, 860, 861, 862, 863, 864, 865, 866, 867, 868, 869, 870, 871, 872, 873, 874, 875, 876, 877, 878, 879, 880, 881, 882, 883, 884, 885, 886, 887, 888, 889, 890, 891, 892, 893, 894, 895, 896, 897, 898, 899, 900, 901, 902, 903, 904, 905, 906, 907, 908, 909, 910, 911, 912, 913, 914, 915, 916, 917, 918, 919, 920, 921, 922, 923, 924, 925, 926, 927, 928, 929, 930, 931, 932, 933, 934, 935, 936, 937, 938, 939, 940, 941, 942, 943, 944, 945, 946, 947, 948, 949, 950, 951, 952, 953, 954, 955, 956, 957, 958, 959, 960, 961, 962, 963, 964, 965, 966, 967, 968, 969, 970, 971, 972, 973, 974, 975, 976, 977, 978, 979, 980, 981, 982, 983, 984, 985, 986, 987, 988, 989, 990, 991, 992, 993, 994, 995, 996, 997, 998, 999, 1000, 1001, 1002, 1003, 1004, 1005, 1006, 1007, 1008, 1009, 1010, 1011, 1012, 1013, 1014, 1015, 1016, 1017, 1018, 1019, 1020, 1021, 1022, 1023, 1024, 1025, 1026, 1027, 1028, 1029, 1030, 1031, 1032, 1033, 1034, 1035, 1036, 1037, 1038, 1039, 1040, 1041, 1042, 1043, 1044, 1045, 1046, 1047, 1048, 1049, 1050, 1051, 1052, 1053, 1054, 1055, 1056, 1057, 1058, 1059, 1060, 1061, 1062, 1063, 1064, 1065, 1066, 1067, 1068, 1069, 1070, 1071, 1072, 1073, 1074, 1075, 1076, 1077, 1078, 1079, 1080, 1081, 1082, 1083, 1084, 1085, 1086, 1087, 1088, 1089, 1090, 1091, 1092, 1093, 1094, 1095, 1096, 1097, 1098, 1099, 1100, 1101, 1102, 1103, 1104, 1105, 1106, 1107, 1108, 1109, 1110, 1111, 1112, 1113, 1114, 1115, 1116, 1117, 1118, 1119, 1120, 1121, 1122, 1123, 1124, 1125, 1126, 1127, 1128, 1129, 1130, 1131, 1132, 1133, 1134, 1135, 1136, 1137, 1138, 1139, 1140, 1141, 1142, 1143, 1144, 1145, 1146, 1147, 1148, 1149, 1150, 1151, 1152, 1153, 1154, 1155, 1156, 1157, 1158, 1159, 1160, 1161, 1162, 1163, 1164, 1165, 1166, 1167, 1168, 1169, 1170, 1171, 1172, 1173, 1174, 1175, 1176, 1177, 1178, 1179, 1180, 1181, 1182, 1183, 1184, 1185, 1186, 1187, 1188, 1189, 1190, 1191, 1192, 1193, 1194, 1195, 1196, 1197, 1198, 1199, 1200, 1201, 1202, 1203, 1204, 1205, 1206, 1207, 1208, 1209, 1210, 1211, 1212, 1213, 1214, 1215, 1216, 1217, 1218, 1219, 1220, 1221, 1222, 1223, 1224, 1225, 1226, 1227, 1228, 1229, 1230, 1231, 1232, 1233, 1234, 1235, 1236, 1237, 1238, 1239, 1240, 1241, 1242, 1243, 1244, 1245, 1246, 1247, 1248, 1249, 1250, 1251, 1252, 1253, 1254, 1255, 1256, 1257, 1258, 1259, 1260, 1261, 1262, 1263, 1264, 1265, 1266, 1267, 1268, 1269, 1270, 1271, 1272, 1273, 1274, 1275, 1276, 1277, 1278, 1279, 1280, 1281, 1282, 1283, 1284, 1285, 1286, 1287, 1288, 1289, 1290, 1291, 1292, 1293, 1294, 1295, 1296, 1297, 1298, 1299, 1300\n"
     ]
    }
   ],
   "source": [
    "# sgykit.data_detail(fileName)\n",
    "sgykit.sgy_outline(fileName)"
   ]
  },
  {
   "cell_type": "code",
   "execution_count": 4,
   "metadata": {},
   "outputs": [
    {
     "name": "stdout",
     "output_type": "stream",
     "text": [
      "<class 'numpy.ndarray'> float32 (1301, 601, 3201)\n"
     ]
    }
   ],
   "source": [
    "data = sgykit.read3D(fileName)\n",
    "print(type(data), data.dtype, data.shape)"
   ]
  },
  {
   "cell_type": "markdown",
   "metadata": {},
   "source": [
    "* 切割为128\\*128\\*128的数据"
   ]
  },
  {
   "cell_type": "code",
   "execution_count": 5,
   "metadata": {},
   "outputs": [],
   "source": [
    "# path = 'H:/LocalDisk/project/CuanDongBei/slice/seis/'\n",
    "path = 'data/slice/seis/'\n",
    "gendb = sgykit.split_sgy(data, path, False, bias={'i': 10, 'x': 0, 't': 0})  # bias 偏移"
   ]
  },
  {
   "cell_type": "code",
   "execution_count": 6,
   "metadata": {},
   "outputs": [
    {
     "name": "stdout",
     "output_type": "stream",
     "text": [
      "(1280, 512, 3200)\n",
      "-127.0 127.0\n"
     ]
    }
   ],
   "source": [
    "print(gendb.shape)\n",
    "print(gendb.min(), gendb.max())"
   ]
  },
  {
   "cell_type": "markdown",
   "metadata": {},
   "source": [
    "* 切割再重组后的数据"
   ]
  },
  {
   "cell_type": "code",
   "execution_count": null,
   "metadata": {},
   "outputs": [],
   "source": [
    "sgykit.save_dat(gendb, 'data/slice/seis/slice_data.datt')"
   ]
  },
  {
   "cell_type": "code",
   "execution_count": 8,
   "metadata": {},
   "outputs": [
    {
     "name": "stdout",
     "output_type": "stream",
     "text": [
      "(512, 1280, 2944)\n"
     ]
    },
    {
     "data": {
      "text/plain": [
       "True"
      ]
     },
     "execution_count": 8,
     "metadata": {},
     "output_type": "execute_result"
    }
   ],
   "source": [
    "rcdb = sgykit.reconstruct_sgy(path)\n",
    "print(rcdb.shape)\n",
    "np.equal(rcdb, gendb).sum() == rcdb.size\n",
    "\n",
    "# checker.check_slice_data(gendb, rcdb)"
   ]
  },
  {
   "cell_type": "markdown",
   "metadata": {},
   "source": [
    "# 实际工区模拟"
   ]
  },
  {
   "cell_type": "code",
   "execution_count": 1,
   "metadata": {},
   "outputs": [],
   "source": [
    "import torch\n",
    "import numpy as np\n",
    "from config import Config\n",
    "from dataset import SingleSample\n",
    "from unet3d import Unet3D\n",
    "from resunet3d import Res18Unet3D\n",
    "from checkdata import CheckData\n",
    "from evaluate import Evaluate\n",
    "from sgykit import Sgykit\n",
    "from generatedata import save_data"
   ]
  },
  {
   "cell_type": "code",
   "execution_count": 2,
   "metadata": {},
   "outputs": [
    {
     "name": "stdout",
     "output_type": "stream",
     "text": [
      "initialization successful! This folder hive 920.dat\n"
     ]
    },
    {
     "data": {
      "text/plain": [
       "<All keys matched successfully>"
      ]
     },
     "execution_count": 2,
     "metadata": {},
     "output_type": "execute_result"
    }
   ],
   "source": [
    "cfg = Config()\n",
    "checker = CheckData()\n",
    "evlter = Evaluate()\n",
    "sgykit = Sgykit()\n",
    "sgset = SingleSample('seis', 'data/slice/seis/', (128, 128, 128), 1, '.dat')\n",
    "unet3d = Res18Unet3D(cfg).to(cfg.device)\n",
    "unet3d.load_state_dict(torch.load('checkpoint/resunet/leakyrelu/best.mdl'))"
   ]
  },
  {
   "cell_type": "code",
   "execution_count": 5,
   "metadata": {},
   "outputs": [],
   "source": [
    "unet3d.eval()\n",
    "with torch.no_grad():\n",
    "    for i in range(sgset.fileNums):\n",
    "        sgdata = sgset.getitem(i).to(cfg.device)\n",
    "        pred = unet3d(sgdata)\n",
    "        prednp = evlter._flatten2np(pred)\n",
    "        save_data(prednp, 'data/slice/pred/resunet/leakyrelu/', f'{i}.dat')"
   ]
  },
  {
   "cell_type": "code",
   "execution_count": 6,
   "metadata": {},
   "outputs": [],
   "source": [
    "redb = sgykit.reconstruct_sgy('data/slice/pred/resunet/leakyrelu/')"
   ]
  },
  {
   "cell_type": "code",
   "execution_count": 9,
   "metadata": {},
   "outputs": [],
   "source": [
    "save_data(redb, 'data/slice/pred/resunet/leakyrelu/', 'predb.datt')"
   ]
  }
 ],
 "metadata": {
  "kernelspec": {
   "display_name": "torch002",
   "language": "python",
   "name": "python3"
  },
  "language_info": {
   "codemirror_mode": {
    "name": "ipython",
    "version": 3
   },
   "file_extension": ".py",
   "mimetype": "text/x-python",
   "name": "python",
   "nbconvert_exporter": "python",
   "pygments_lexer": "ipython3",
   "version": "3.11.5"
  }
 },
 "nbformat": 4,
 "nbformat_minor": 2
}
